{
  "nbformat": 4,
  "nbformat_minor": 0,
  "metadata": {
    "colab": {
      "name": "Dlib Exercise.ipynb",
      "provenance": [],
      "toc_visible": true,
      "authorship_tag": "ABX9TyN+6VczKc43v6GS/dPKf57R",
      "include_colab_link": true
    },
    "kernelspec": {
      "name": "python3",
      "display_name": "Python 3"
    },
    "accelerator": "GPU"
  },
  "cells": [
    {
      "cell_type": "markdown",
      "metadata": {
        "id": "view-in-github",
        "colab_type": "text"
      },
      "source": [
        "<a href=\"https://colab.research.google.com/github/lovellbrian/ELEC4630/blob/master/Dlib_Exercise.ipynb\" target=\"_parent\"><img src=\"https://colab.research.google.com/assets/colab-badge.svg\" alt=\"Open In Colab\"/></a>"
      ]
    },
    {
      "cell_type": "markdown",
      "metadata": {
        "id": "4KkLwN_fprWf",
        "colab_type": "text"
      },
      "source": [
        "#ELEC4630 Exercise on Face Recognition\n",
        "First check if the dlib library is installed"
      ]
    },
    {
      "cell_type": "code",
      "metadata": {
        "id": "Bnvc7IP1ptxn",
        "colab_type": "code",
        "colab": {}
      },
      "source": [
        "!pip install dlib\n"
      ],
      "execution_count": 0,
      "outputs": []
    },
    {
      "cell_type": "markdown",
      "metadata": {
        "id": "Snc0PgFIp8U3",
        "colab_type": "text"
      },
      "source": [
        "Get some sample images from gitHub and place them a folder called 'images'."
      ]
    },
    {
      "cell_type": "code",
      "metadata": {
        "id": "lFWjrm_k6Asq",
        "colab_type": "code",
        "colab": {}
      },
      "source": [
        "# First store some sample images in the folder 'images'\n",
        "!mkdir -p images\n",
        "!cd images; wget -nc https://raw.githubusercontent.com/lovellbrian/ELEC4630/master/Images/obama.jpg\n",
        "!cd images; wget -nc https://raw.githubusercontent.com/lovellbrian/ELEC4630/master/Images/biden.jpg\n",
        "!cd images; wget -nc https://raw.githubusercontent.com/lovellbrian/ELEC4630/master/Images/two_people.jpg"
      ],
      "execution_count": 0,
      "outputs": []
    },
    {
      "cell_type": "markdown",
      "metadata": {
        "id": "9m1RbCohI8Rv",
        "colab_type": "text"
      },
      "source": [
        "Now install the face recognition module from Dlib"
      ]
    },
    {
      "cell_type": "code",
      "metadata": {
        "id": "wQABDisPqrpo",
        "colab_type": "code",
        "colab": {}
      },
      "source": [
        "!pip3 install face_recognition"
      ],
      "execution_count": 0,
      "outputs": []
    },
    {
      "cell_type": "markdown",
      "metadata": {
        "id": "CqKyfGKbJRCk",
        "colab_type": "text"
      },
      "source": [
        "Now lets find some faces!"
      ]
    },
    {
      "cell_type": "code",
      "metadata": {
        "id": "Vzhv09Dyq5Gv",
        "colab_type": "code",
        "colab": {}
      },
      "source": [
        "import face_recognition\n",
        "from PIL import Image, ImageDraw\n",
        "import numpy as np\n",
        "\n",
        "# This is an example of running face recognition on a single image\n",
        "# and drawing a box around each person that was identified.\n",
        "\n",
        "# Load a sample picture and learn how to recognize it.\n",
        "obama_image = face_recognition.load_image_file(\"images/obama.jpg\")\n",
        "obama_face_encoding = face_recognition.face_encodings(obama_image)[0]\n",
        "\n",
        "# Load a second sample picture and learn how to recognize it.\n",
        "biden_image = face_recognition.load_image_file(\"images/biden.jpg\")\n",
        "biden_face_encoding = face_recognition.face_encodings(biden_image)[0]\n",
        "\n",
        "# Create arrays of known face encodings and their names\n",
        "known_face_encodings = [\n",
        "    obama_face_encoding,\n",
        "    biden_face_encoding\n",
        "]\n",
        "known_face_names = [\n",
        "    \"Barack Obama\",\n",
        "    \"Joe Biden\"\n",
        "]\n",
        "\n",
        "# Load an image with an unknown face\n",
        "unknown_image = face_recognition.load_image_file(\"images/two_people.jpg\")\n",
        "\n",
        "# Find all the faces and face encodings in the unknown image\n",
        "face_locations = face_recognition.face_locations(unknown_image)\n",
        "face_encodings = face_recognition.face_encodings(unknown_image, face_locations)\n",
        "\n",
        "# Convert the image to a PIL-format image so that we can draw on top of it with the Pillow library\n",
        "# See http://pillow.readthedocs.io/ for more about PIL/Pillow\n",
        "pil_image = Image.fromarray(unknown_image)\n",
        "# Create a Pillow ImageDraw Draw instance to draw with\n",
        "draw = ImageDraw.Draw(pil_image)\n",
        "\n",
        "# Loop through each face found in the unknown image\n",
        "for (top, right, bottom, left), face_encoding in zip(face_locations, face_encodings):\n",
        "    # See if the face is a match for the known face(s)\n",
        "    matches = face_recognition.compare_faces(known_face_encodings, face_encoding)\n",
        "\n",
        "    name = \"Unknown\"\n",
        "\n",
        "    # If a match was found in known_face_encodings, just use the first one.\n",
        "    # if True in matches:\n",
        "    #     first_match_index = matches.index(True)\n",
        "    #     name = known_face_names[first_match_index]\n",
        "\n",
        "    # Or instead, use the known face with the smallest distance to the new face\n",
        "    face_distances = face_recognition.face_distance(known_face_encodings, face_encoding)\n",
        "    best_match_index = np.argmin(face_distances)\n",
        "    if matches[best_match_index]:\n",
        "        name = known_face_names[best_match_index]\n",
        "\n",
        "    # Draw a box around the face using the Pillow module\n",
        "    draw.rectangle(((left, top), (right, bottom)), outline=(0, 0, 255))\n",
        "\n",
        "    # Draw a label with a name below the face\n",
        "    text_width, text_height = draw.textsize(name)\n",
        "    draw.rectangle(((left, bottom - text_height - 10), (right, bottom)), fill=(0, 0, 255), outline=(0, 0, 255))\n",
        "    draw.text((left + 6, bottom - text_height - 5), name, fill=(255, 255, 255, 255))\n",
        "\n",
        "\n",
        "# Remove the drawing library from memory as per the Pillow docs\n",
        "del draw\n",
        "\n",
        "# Display the resulting image\n",
        "# pil_image.show()  does not work in iPython\n",
        "display(pil_image)\n",
        "\n",
        "# You can also save a copy of the new image to disk if you want by uncommenting this line\n",
        "# pil_image.save(\"image_with_boxes.jpg\")"
      ],
      "execution_count": 0,
      "outputs": []
    }
  ]
}